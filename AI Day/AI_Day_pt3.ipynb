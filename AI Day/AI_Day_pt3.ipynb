{
 "cells": [
  {
   "cell_type": "markdown",
   "metadata": {},
   "source": [
    "## PART THREE: Visualising the results\n",
    "\n",
    "In this part, we will look at our model's predictions on a new set of Salmonella samples. This one is much larger than the set we used to train the model, and comes with information about where and when the sample was taken. \n",
    "\n",
    "Go to this link to view the results: https://microreact.org/project/salmonella-investigation"
   ]
  },
  {
   "cell_type": "markdown",
   "metadata": {},
   "source": [
    "## TASK 1\n",
    "\n",
    "If you are assigned to task 1, use your data to answer the following questions:\n",
    "\n",
    "### Salmonella in the UK\n",
    "\n",
    "1. Select the point on the map corresponding to the UK. \n",
    "2. Where in the family tree of Salmonella are the UK samples? Are they spread evenly, or do they come from a particular family?\n",
    "3. How does the invasiveness score of the UK samples compare to the collection overall? What might this mean for our risk of a bad outcome if we get infected?\n",
    "4. Why might these variants of Salmonella be more common in the UK compared to other variants?\n",
    "\n",
    "<br/><br/>\n",
    "---"
   ]
  },
  {
   "cell_type": "markdown",
   "metadata": {},
   "source": [
    "## TASK 2\n",
    "\n",
    "If you are assigned to task 2, use your data to answer the following questions:\n",
    "\n",
    "### Salmonella in Africa\n",
    "\n",
    "1. Use the map selector tool to filter down to samples from Africa. \n",
    "2. Where in the family tree of Salmonella are the samples from Africa? Are they spread evenly, or do they come from a particular family?\n",
    "3. How does the invasiveness score of the African samples compare to the collection overall? What might this mean for someone's risk of a bad outcome if we get infected?\n",
    "4. Do the invasiveness scores differ between countries in Africa? Try clicking on some points within Africa and look at where they fall on the tree. \n",
    "5. There are two big families of Salmonella with higher invasiveness scores. Where in the world can they be found? What kind of sources do they come from?\n",
    "\n",
    "<br/><br/>\n",
    "---"
   ]
  },
  {
   "cell_type": "markdown",
   "metadata": {},
   "source": [
    "## TASK 3\n",
    "\n",
    "If you are assigned to task 3, use your data to answer the following questions:\n",
    "\n",
    "### Salmonella with high invasiveness scores\n",
    "\n",
    "1. Where in the tree are Salmonella with the highest invasiveness scores? How common are these variants compared to Salmonella with low invasiveness scores?\n",
    "2. Where in the world are the Salmonella with high invasiveness scores found?\n",
    "3. What kind of samples do invasive Salmonella come from?\n",
    "4. Is there any interesting information in the data table on these invasive variants?\n",
    "\n",
    "<br/><br/>\n",
    "---"
   ]
  },
  {
   "cell_type": "markdown",
   "metadata": {},
   "source": []
  }
 ],
 "metadata": {
  "language_info": {
   "name": "python"
  }
 },
 "nbformat": 4,
 "nbformat_minor": 2
}
