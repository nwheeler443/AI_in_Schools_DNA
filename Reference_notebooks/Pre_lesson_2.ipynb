{
 "cells": [
  {
   "cell_type": "markdown",
   "metadata": {},
   "source": [
    "## Part II: Translating DNA to protein\n",
    "\n",
    "In this lesson, we will learn how to translate DNA to protein. We will use Biopython, a Python library made specifically for biology to do the translation.\n",
    "\n",
    "DNA is made up of 4 nucleotides, but has to encode proteins, which are made up of 20 amino acids. \n",
    "The genetic code is the mapping between the nucleotides and the amino acids.\n",
    "The genetic code is degenerate, meaning that a single amino acid can be encoded by multiple codons.\n",
    "The genetic code is also universal, meaning that the same codon encodes the same amino acid in all organisms.\n",
    "\n",
    "Imagine that DNA is like a recipe book that contains instructions for making different things in biology. These instructions are made up of smaller parts called \"codons,\" which are like sentences made of three letters each. \n",
    "\n",
    "Just like in a recipe, there are certain words that tell you when to stop doing something, like \"stop stirring\" or \"turn off the oven.\" In DNA, there are special codons called \"stop codons\" that tell the cell when to stop making a protein.\n",
    "\n",
    "So, when a cell is reading the DNA to make a protein, it keeps going until it reaches a stop codon. When it sees this stop codon, it knows it's reached the end of the instructions, and it stops making the protein. \n",
    "\n",
    "Just like how \"stop\" signals the end of something in a recipe, stop codons signal the end of making a protein in a cell. These stop codons help make sure the proteins are the right length and shape for cells to work properly."
   ]
  },
  {
   "cell_type": "code",
   "execution_count": 20,
   "metadata": {},
   "outputs": [],
   "source": [
    "# load libraries\n",
    "\n",
    "from utils import *\n",
    "from sequence_alignment_viewer import *\n",
    "from build_tree import *\n",
    "\n",
    "from Bio.Seq import Seq\n"
   ]
  },
  {
   "cell_type": "code",
   "execution_count": 21,
   "metadata": {},
   "outputs": [
    {
     "name": "stdout",
     "output_type": "stream",
     "text": [
      "DNA sequence of our ancestor: TCTGCGTGAGTCAAGTATCTGAATGAGTAACGACGGACAG\n"
     ]
    },
    {
     "data": {
      "application/vnd.jupyter.widget-view+json": {
       "model_id": "7c39d09fd0ac45e4bfe5d23b00bc2424",
       "version_major": 2,
       "version_minor": 0
      },
      "text/plain": [
       "BokehModel(combine_events=True, render_bundle={'docs_json': {'8ec00b31-aec2-4e7a-975c-b86c1cc7d48b': {'version…"
      ]
     },
     "execution_count": 21,
     "metadata": {},
     "output_type": "execute_result"
    }
   ],
   "source": [
    "# repeat the same steps as last lesson\n",
    "\n",
    "seq_length = 40\n",
    "\n",
    "seq1 = random_DNA(length=seq_length)\n",
    "print(\"DNA sequence of our ancestor: \" + seq1)\n",
    "\n",
    "sequences = {'Ancestor': seq1}  \n",
    "for i in range(10):\n",
    "    sequences['mutant_' + str(i)] = mutate_n(seq1, 10)\n",
    "\n",
    "p = view_alignment(sequences, language='DNA', plot_width=1000)\n",
    "pn.pane.Bokeh(p)"
   ]
  },
  {
   "cell_type": "markdown",
   "metadata": {},
   "source": [
    "Now, we are going to translate these DNA sequences into protein sequences."
   ]
  },
  {
   "cell_type": "code",
   "execution_count": 22,
   "metadata": {},
   "outputs": [
    {
     "data": {
      "application/vnd.jupyter.widget-view+json": {
       "model_id": "3929ce1564994bd0bbf8f3dfd100b1d6",
       "version_major": 2,
       "version_minor": 0
      },
      "text/plain": [
       "BokehModel(combine_events=True, render_bundle={'docs_json': {'9b945089-1924-46d2-99d6-a6cb3d316a38': {'version…"
      ]
     },
     "execution_count": 22,
     "metadata": {},
     "output_type": "execute_result"
    }
   ],
   "source": [
    "# translate the dictionary of DNA sequences to a dictionary of protein sequences\n",
    "\n",
    "# create a dictionary for the protein sequences\n",
    "sequences_protein = {}\n",
    "# iterate over the dictionary of DNA sequences\n",
    "for name, seq in sequences.items():\n",
    "    # translate the sequence to protein\n",
    "    bio_seq = Seq(seq)\n",
    "    protein_seq = bio_seq.translate()\n",
    "    # add the protein sequence to the dictionary\n",
    "    sequences_protein[name] = str(protein_seq)\n",
    "\n",
    "# view the protein sequences\n",
    "p = view_alignment(sequences_protein, language='protein', plot_width=800)\n",
    "pn.pane.Bokeh(p)"
   ]
  },
  {
   "cell_type": "markdown",
   "metadata": {},
   "source": [
    "The amino acids are coloured accoring to their chemical characteristics:\n",
    "- Red amino acids are 'hydrophobic', meaning they avoid water\n",
    "- Blue amino acids are 'basic', meaning they can be positively charged\n",
    "- Green amino acids are 'acidic', meaning they can be negatively charged\n",
    "- Yellow amino acids are 'polar', meaning they don't have a charge, but can interacti with water and other polar molecules\n",
    "- Pink amino acids have special qualities and may perform particularly important roles in protein structure or function\n",
    "- Black '*'s are stop codons, which tell the cell's machinery to stop making the protein - any amino acids after a stop codon wouldn't actually be incorporated into the real protein\n",
    "\n",
    "Notice that some of the amino acids have changed to another one of the same colour. This is because biology uses codons that, if mutated, are more likely to change to one for a similar amino acid than a dissimilar one. "
   ]
  }
 ],
 "metadata": {
  "kernelspec": {
   "display_name": "base",
   "language": "python",
   "name": "python3"
  },
  "language_info": {
   "codemirror_mode": {
    "name": "ipython",
    "version": 3
   },
   "file_extension": ".py",
   "mimetype": "text/x-python",
   "name": "python",
   "nbconvert_exporter": "python",
   "pygments_lexer": "ipython3",
   "version": "3.10.9"
  }
 },
 "nbformat": 4,
 "nbformat_minor": 2
}
