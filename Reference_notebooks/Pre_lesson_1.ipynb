{
 "cells": [
  {
   "cell_type": "markdown",
   "metadata": {},
   "source": [
    "### Part I: Simulating DNA sequences\n",
    "\n",
    "Welcome to the exciting world of biology and computer science! In this module, we will embark on a journey to understand the basics of genetic information and how it shapes the living organisms around us. DNA, or deoxyribonucleic acid, is at the heart of this exploration. It's a fascinating molecule that serves as the instruction manual for every organism on Earth.\n",
    "\n",
    "DNA is structured as a long chain made up of smaller units called nucleotides. These are the critical building blocks of DNA, much like how letters form the building blocks of words. In the DNA \"alphabet,\" there are four nucleotides: adenine (A), thymine (T), cytosine (C), and guanine (G). The order in which these nucleotides are arranged constitutes the genetic code of an organism, similar to how the arrangement of letters forms sentences and paragraphs that carry specific information.\n",
    "\n",
    "The sequence of nucleotides in DNA determines everything from the color of a flower to the height of a human being. These sequences are passed from parents to offspring, carrying the instructions for the development, growth, and function of all living things. But despite this incredible variety, all life on Earth shares the same fundamental DNA structure, highlighting a deep, unifying thread of biological connection.\n",
    "\n",
    "In today's lesson, we're going to combine principles of biology with computer programming to simulate DNA sequences. By doing this, we'll gain a deeper understanding of how genetic information is structured and how we can analyze and compare genetic material from different organisms using computational methods.\n",
    "\n",
    "Here's what we'll be doing in this exercise:\n",
    "\n",
    "1. **Simulating DNA**: We will use programming concepts to create our own DNA sequences. This will involve generating long chains of the letters A, T, C, and G in random sequences, mimicking the way DNA sequences look in nature.\n",
    "\n",
    "2. **Analysis and Comparison**: Once we have our simulated DNA strands, we will compare them to each other to see how they differ. This is similar to what scientists do when they are looking at the DNA from different species or individuals to understand genetic relationships and evolutionary history.\n",
    "\n",
    "3. **Understanding Mutations**: We will introduce changes or 'mutations' into our DNA sequences and observe how even small changes can have big impacts on the genetic code.\n",
    "\n",
    "By the end of this lesson, you will have a better understanding of how DNA works and how programming can be a powerful tool in the study of biology. So, grab your virtual lab coats and prepare to dive into the digital world of genetics! Let's embark on this adventure together and unlock the secrets of life’s code."
   ]
  },
  {
   "cell_type": "code",
   "execution_count": 8,
   "metadata": {},
   "outputs": [],
   "source": [
    "# load libraries\n",
    "\n",
    "import random # helps us generate random numbers\n",
    "\n",
    "from sequence_alignment_viewer import * # a program that lets us compare DNA sequences"
   ]
  },
  {
   "cell_type": "markdown",
   "metadata": {},
   "source": [
    "### Coding Exercise: Generating Random DNA Sequences\n",
    "\n",
    "#### Objective:\n",
    "Your task is to write a Python function that generates a random DNA sequence of a given length. This exercise will help you understand the randomness and variety present in biological DNA sequences, as well as practice your skills in Python programming.\n",
    "\n",
    "#### Instructions:\n",
    "\n",
    "1. **Function Definition**: Begin by defining a function named `random_DNA`. This function should take one parameter, `length`, which represents the length of the DNA sequence to be generated.\n",
    "\n",
    "2. **Initializing the Sequence**: Inside the function, create a variable named `DNA`. Initialize this variable with an empty string. This variable will be used to store the randomly generated DNA sequence.\n",
    "\n",
    "3. **Generating the Sequence**:\n",
    "    - Create a loop that iterates `length` times. Each iteration represents the addition of a new nucleotide to your DNA sequence.\n",
    "    - Within the loop, add a randomly selected nucleotide to your DNA string. The nucleotides are represented by the letters 'C', 'G', 'T', and 'A'. You'll need to use the `random.choice()` method to select one of these letters randomly. Remember, for this to work, you'll need to import the `random` module at the beginning of your script.\n",
    "\n",
    "4. **Returning the Sequence**: After the loop finishes, return the `DNA` string. This string should now contain a sequence of nucleotides of the specified length.\n",
    "\n",
    "#### Sample Code Structure:\n",
    "```python\n",
    "# Import the necessary module\n",
    "import random\n",
    "\n",
    "# Define the function to generate a random DNA sequence\n",
    "def random_DNA(length):\n",
    "    # Your code here\n",
    "\n",
    "# Test your function\n",
    "print(random_DNA(10))  # This should print a random DNA sequence of length 10\n",
    "```\n",
    "\n",
    "#### Task:\n",
    "Complete the missing parts of the provided function template using Python code. Once you've written your function, test it by generating a DNA sequence of different lengths, such as 5, 10, or 20, and print out the results.\n",
    "\n",
    "#### Tips:\n",
    "- Make sure you understand how the `for` loop works and how it uses the `range()` function.\n",
    "- Remember to import the `random` module, which is required for `random.choice()`.\n",
    "- Check the syntax and ensure there are no typos in your code. Python is case-sensitive and requires proper indentation.\n",
    "\n",
    "Complete this task in your Python environment, and observe the different DNA sequences your function generates. Reflect on how this randomness mirrors the diversity of life and its genetic underpinnings. Good luck!"
   ]
  },
  {
   "cell_type": "code",
   "execution_count": 9,
   "metadata": {},
   "outputs": [],
   "source": [
    "# generate a random DNA sequence of a given length\n",
    "\n",
    "def random_DNA(length):\n",
    "    # create a variable to store the DNA sequence\n",
    "    DNA=\"\"\n",
    "    # loop over the length of the sequence\n",
    "    for count in range(length):\n",
    "        # add a random base to the sequence\n",
    "        DNA+=random.choice(\"CGTA\")\n",
    "    return DNA"
   ]
  },
  {
   "cell_type": "code",
   "execution_count": 10,
   "metadata": {},
   "outputs": [],
   "source": [
    "# mutate a DNA sequence N times\n",
    "\n",
    "def mutate_n(dna, N):\n",
    "    # convert the DNA sequence to a list\n",
    "    dna = list(dna)\n",
    "    # loop over the number of mutations\n",
    "    for i in range(N):\n",
    "        # choose a random site to mutate\n",
    "        mutation_site = random.randint(0, len(dna) - 1)\n",
    "        # choose a random base to mutate to\n",
    "        new_base = random.choice('ATCG')\n",
    "        # mutate the DNA sequence\n",
    "        dna[mutation_site] = new_base\n",
    "    return ''.join(dna)"
   ]
  },
  {
   "cell_type": "code",
   "execution_count": 11,
   "metadata": {},
   "outputs": [
    {
     "name": "stdout",
     "output_type": "stream",
     "text": [
      "DNA sequence of our ancestor: AAACCACCACGCGTGCAGAGCGAGTGGCATAACGTTCAGG\n"
     ]
    },
    {
     "data": {
      "application/vnd.jupyter.widget-view+json": {
       "model_id": "629e00f5a70949a0abe3ca59df746dd4",
       "version_major": 2,
       "version_minor": 0
      },
      "text/plain": [
       "BokehModel(combine_events=True, render_bundle={'docs_json': {'eb89e8ea-4483-4213-a7b9-f688a6cb6c4b': {'version…"
      ]
     },
     "execution_count": 11,
     "metadata": {},
     "output_type": "execute_result"
    }
   ],
   "source": [
    "# generate a random DNA sequence of a given length\n",
    "\n",
    "# choose a length for the DNA sequence\n",
    "seq_length = 40\n",
    "\n",
    "# generate a random DNA sequence of the chosen length\n",
    "seq1 = random_DNA(length=seq_length)\n",
    "print(\"DNA sequence of our ancestor: \" + seq1)\n",
    "\n",
    "# create a dictionary of sequences\n",
    "sequences = {'Ancestor': seq1}  \n",
    "# add 10 mutant sequences to the dictionary\n",
    "for i in range(10):\n",
    "    seq_name = 'mutant_' + str(i)\n",
    "    sequences[seq_name] = mutate_n(seq1, 10)\n",
    "\n",
    "# view the DNA sequences\n",
    "p = view_alignment(sequences, language='DNA', plot_width=1000)\n",
    "pn.pane.Bokeh(p)"
   ]
  },
  {
   "cell_type": "markdown",
   "metadata": {},
   "source": [
    "Try playing with different numbers of mutations to see how it impacts the similarity of the DNA sequences."
   ]
  },
  {
   "cell_type": "code",
   "execution_count": null,
   "metadata": {},
   "outputs": [],
   "source": []
  }
 ],
 "metadata": {
  "kernelspec": {
   "display_name": "base",
   "language": "python",
   "name": "python3"
  },
  "language_info": {
   "codemirror_mode": {
    "name": "ipython",
    "version": 3
   },
   "file_extension": ".py",
   "mimetype": "text/x-python",
   "name": "python",
   "nbconvert_exporter": "python",
   "pygments_lexer": "ipython3",
   "version": "3.10.9"
  }
 },
 "nbformat": 4,
 "nbformat_minor": 2
}
