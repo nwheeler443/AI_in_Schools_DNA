{
 "cells": [
  {
   "cell_type": "markdown",
   "metadata": {},
   "source": [
    "### Expanded Part I: Simulating DNA sequences\n",
    "\n",
    "Welcome to the exciting world of biology and computer science! In this module, we will embark on a journey to understand the basics of genetic information and how it shapes the living organisms around us. DNA, or deoxyribonucleic acid, is at the heart of this exploration. It's a fascinating molecule that serves as the instruction manual for every organism on Earth.\n",
    "\n",
    "DNA is structured as a long chain made up of smaller units called nucleotides. These are the critical building blocks of DNA, much like how letters form the building blocks of words. In the DNA \"alphabet,\" there are four nucleotides: adenine (A), thymine (T), cytosine (C), and guanine (G). The order in which these nucleotides are arranged constitutes the genetic code of an organism, similar to how the arrangement of letters forms sentences and paragraphs that carry specific information.\n",
    "\n",
    "The sequence of nucleotides in DNA determines everything from the color of a flower to the height of a human being. These sequences are passed from parents to offspring, carrying the instructions for the development, growth, and function of all living things. But despite this incredible variety, all life on Earth shares the same fundamental DNA structure, highlighting a deep, unifying thread of biological connection.\n",
    "\n",
    "In today's lesson, we're going to combine principles of biology with computer programming to simulate DNA sequences. By doing this, we'll gain a deeper understanding of how genetic information is structured and how we can analyze and compare genetic material from different organisms using computational methods.\n",
    "\n",
    "Here's what we'll be doing in this exercise:\n",
    "\n",
    "1. **Simulating DNA**: We will use programming concepts to create our own DNA sequences. This will involve generating long chains of the letters A, T, C, and G in random sequences, mimicking the way DNA sequences look in nature.\n",
    "\n",
    "2. **Analysis and Comparison**: Once we have our simulated DNA strands, we will compare them to each other to see how they differ. This is similar to what scientists do when they are looking at the DNA from different species or individuals to understand genetic relationships and evolutionary history.\n",
    "\n",
    "3. **Understanding Mutations**: We will introduce changes or 'mutations' into our DNA sequences and observe how even small changes can have big impacts on the genetic code.\n",
    "\n",
    "By the end of this lesson, you will have a better understanding of how DNA works and how programming can be a powerful tool in the study of biology. So, grab your virtual lab coats and prepare to dive into the digital world of genetics! Let's embark on this adventure together and unlock the secrets of life’s code."
   ]
  },
  {
   "cell_type": "code",
   "execution_count": 8,
   "metadata": {},
   "outputs": [],
   "source": [
    "# load libraries\n",
    "\n",
    "import random # helps us generate random numbers\n",
    "\n",
    "from sequence_alignment_viewer import * # a program that lets us compare DNA sequences"
   ]
  },
  {
   "cell_type": "markdown",
   "metadata": {},
   "source": []
  },
  {
   "cell_type": "code",
   "execution_count": 9,
   "metadata": {},
   "outputs": [],
   "source": [
    "# generate a random DNA sequence of a given length\n",
    "\n",
    "def random_DNA(length):\n",
    "    # create a variable to store the DNA sequence\n",
    "    DNA=\"\"\n",
    "    # loop over the length of the sequence\n",
    "    for count in range(length):\n",
    "        # add a random base to the sequence\n",
    "        DNA+=random.choice(\"CGTA\")\n",
    "    return DNA"
   ]
  },
  {
   "cell_type": "code",
   "execution_count": 10,
   "metadata": {},
   "outputs": [],
   "source": [
    "# mutate a DNA sequence N times\n",
    "\n",
    "def mutate_n(dna, N):\n",
    "    # convert the DNA sequence to a list\n",
    "    dna = list(dna)\n",
    "    # loop over the number of mutations\n",
    "    for i in range(N):\n",
    "        # choose a random site to mutate\n",
    "        mutation_site = random.randint(0, len(dna) - 1)\n",
    "        # choose a random base to mutate to\n",
    "        new_base = random.choice('ATCG')\n",
    "        # mutate the DNA sequence\n",
    "        dna[mutation_site] = new_base\n",
    "    return ''.join(dna)"
   ]
  },
  {
   "cell_type": "code",
   "execution_count": 11,
   "metadata": {},
   "outputs": [
    {
     "name": "stdout",
     "output_type": "stream",
     "text": [
      "DNA sequence of our ancestor: AAACCACCACGCGTGCAGAGCGAGTGGCATAACGTTCAGG\n"
     ]
    },
    {
     "data": {
      "application/vnd.jupyter.widget-view+json": {
       "model_id": "629e00f5a70949a0abe3ca59df746dd4",
       "version_major": 2,
       "version_minor": 0
      },
      "text/plain": [
       "BokehModel(combine_events=True, render_bundle={'docs_json': {'eb89e8ea-4483-4213-a7b9-f688a6cb6c4b': {'version…"
      ]
     },
     "execution_count": 11,
     "metadata": {},
     "output_type": "execute_result"
    }
   ],
   "source": [
    "# generate a random DNA sequence of a given length\n",
    "\n",
    "# choose a length for the DNA sequence\n",
    "seq_length = 40\n",
    "\n",
    "# generate a random DNA sequence of the chosen length\n",
    "seq1 = random_DNA(length=seq_length)\n",
    "print(\"DNA sequence of our ancestor: \" + seq1)\n",
    "\n",
    "# create a dictionary of sequences\n",
    "sequences = {'Ancestor': seq1}  \n",
    "# add 10 mutant sequences to the dictionary\n",
    "for i in range(10):\n",
    "    seq_name = 'mutant_' + str(i)\n",
    "    sequences[seq_name] = mutate_n(seq1, 10)\n",
    "\n",
    "# view the DNA sequences\n",
    "p = view_alignment(sequences, language='DNA', plot_width=1000)\n",
    "pn.pane.Bokeh(p)"
   ]
  },
  {
   "cell_type": "markdown",
   "metadata": {},
   "source": [
    "Try playing with different numbers of mutations to see how it impacts the similarity of the DNA sequences."
   ]
  },
  {
   "cell_type": "code",
   "execution_count": null,
   "metadata": {},
   "outputs": [],
   "source": []
  }
 ],
 "metadata": {
  "kernelspec": {
   "display_name": "base",
   "language": "python",
   "name": "python3"
  },
  "language_info": {
   "codemirror_mode": {
    "name": "ipython",
    "version": 3
   },
   "file_extension": ".py",
   "mimetype": "text/x-python",
   "name": "python",
   "nbconvert_exporter": "python",
   "pygments_lexer": "ipython3",
   "version": "3.10.9"
  }
 },
 "nbformat": 4,
 "nbformat_minor": 2
}
